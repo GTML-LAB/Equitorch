{
 "cells": [
  {
   "cell_type": "code",
   "execution_count": 1,
   "metadata": {},
   "outputs": [],
   "source": [
    "import os\n",
    "os.chdir('..')\n",
    "\n",
    "import equitorch.irreps\n",
    "from equitorch.irreps import Irrep, Irreps\n",
    "# from irreps import segments\n"
   ]
  },
  {
   "cell_type": "code",
   "execution_count": 2,
   "metadata": {},
   "outputs": [],
   "source": [
    "# print(\"=\"*40)\n",
    "# print(\"Irrep 类演示\")\n",
    "# print(\"=\"*40)\n",
    "\n",
    "# # 测试不同初始化方式\n",
    "# ir1 = Irrep(2, 'e')\n",
    "# ir2 = Irrep(\"3o\")\n",
    "# ir3 = Irrep(0)\n",
    "# ir4 = Irrep(1, None)\n",
    "\n",
    "# print(\"\\n1. 不同初始化方式：\")\n",
    "# print(f\"Irrep(2, 'e') -> {ir1}\")      # 2e\n",
    "# print(f\"Irrep('3o') -> {ir2}\")        # 3o\n",
    "# print(f\"Irrep(0) -> {ir3}\")           # 0\n",
    "# print(f\"Irrep(1, None) -> {ir4}\")     # 1\n",
    "\n",
    "# # 测试比较操作\n",
    "# print(\"\\n2. 比较操作：\")\n",
    "# print(f\"{ir1} == '2e'? {ir1 == '2e'}\")          # True\n",
    "# print(f\"{ir2} == (3, -1)? {ir2 == (3, -1)}\")    # True\n",
    "# print(f\"{ir3} == 0? {ir3 == 0}\")                # True\n",
    "\n",
    "# # 测试维度属性\n",
    "# print(\"\\n3. 维度计算：\")\n",
    "# print(f\"{ir1}.dim = {ir1.dim}\")  # 2 * 2+1=5\n",
    "# print(f\"{ir3}.dim = {ir3.dim}\")  # 2 * 0+1=1\n",
    "\n",
    "# print(\"\\n\" + \"=\"*40)\n",
    "# print(\"Irreps 类演示\")\n",
    "# print(\"=\"*40)\n",
    "\n",
    "# # 测试字符串初始化\n",
    "# irreps1 = Irreps(\"4x0+3x1e\", channels=2)\n",
    "# print(\"\\n1. 字符串初始化:\")\n",
    "# print(irreps1)  # Irreps(4x0+1e+1e+1e, channels=2)\n",
    "\n",
    "# # 测试元组初始化（生成范围）\n",
    "# irreps2 = Irreps((0, 2), channels=3)\n",
    "# print(\"\\n2. 范围初始化 (0-2):\")\n",
    "# print(irreps2)  # Irreps(0+1+2, channels=3)\n",
    "\n",
    "# # 测试列表初始化\n",
    "# irreps3 = Irreps([0, '1e', (2, -1)], channels=4)\n",
    "# print(\"\\n3. 列表初始化:\")\n",
    "# print(irreps3)  # Irreps(0+1e+2o, channels=4)\n",
    "\n",
    "# # 测试等值比较\n",
    "# print(\"\\n4. 等值比较:\")\n",
    "# print(f\"{irreps1} == {irreps2}? {irreps1 == irreps2}\")  # False\n"
   ]
  },
  {
   "cell_type": "code",
   "execution_count": 3,
   "metadata": {},
   "outputs": [],
   "source": [
    "# irreps1 == ('4x0+3x1e',4)"
   ]
  },
  {
   "cell_type": "code",
   "execution_count": 4,
   "metadata": {},
   "outputs": [],
   "source": [
    "# Irrep((2, -1))"
   ]
  },
  {
   "cell_type": "code",
   "execution_count": 5,
   "metadata": {},
   "outputs": [],
   "source": [
    "# Irreps(((0,3),4))"
   ]
  },
  {
   "cell_type": "code",
   "execution_count": 6,
   "metadata": {},
   "outputs": [],
   "source": [
    "# Irreps((0, 3), 4)"
   ]
  },
  {
   "cell_type": "code",
   "execution_count": 7,
   "metadata": {},
   "outputs": [],
   "source": [
    "# {ir1:1}"
   ]
  },
  {
   "cell_type": "code",
   "execution_count": 8,
   "metadata": {},
   "outputs": [],
   "source": [
    "# Irreps(\"0e+0o+0\", 4).sorted()\n",
    "# Irreps(\"3x0e+0e\").sorted()\n",
    "# Irreps(\"0o+3x0o+0e+3x1+3x2e+4x1\", 4).simplified()\n",
    "# Irreps(\"2e\", 2) + Irreps(\"1o\", 2)\n",
    "# \"1e\" + Irreps(\"3x0e\") \n",
    "# Irreps(\"1e\", 3) * 2\n",
    "# 3 * Irreps(\"2o+3e\")\n",
    "# Irreps(\"2x0e+3x1o\", channels=4).flatten()"
   ]
  },
  {
   "cell_type": "code",
   "execution_count": 9,
   "metadata": {},
   "outputs": [
    {
     "name": "stdout",
     "output_type": "stream",
     "text": [
      "Irreps(6x0+1+2e+5x2o)\n",
      "Irreps(0+1+2+3)\n",
      "Irreps(0+1e+2o)\n",
      "Irreps(1e)\n"
     ]
    }
   ],
   "source": [
    "print(Irreps(\"6x0 + 1 + 2e + 5x2o\"))\n",
    "print(Irreps((0, 3)) )\n",
    "print(Irreps([0, \"1e\", \"2o\"])  )\n",
    "print(Irreps(\"1e\")      )"
   ]
  },
  {
   "cell_type": "code",
   "execution_count": 10,
   "metadata": {},
   "outputs": [
    {
     "name": "stdout",
     "output_type": "stream",
     "text": [
      "True\n",
      "True\n",
      "False\n",
      "False\n",
      "False\n",
      "True\n"
     ]
    }
   ],
   "source": [
    "print(Irreps(\"1x0e\") == Irreps(\"1x0e\"))\n",
    "print(Irreps(\"1x0e\") == Irreps(\"0e\"))\n",
    "print(Irreps(\"1x0e\") == Irreps(\"1x0\"))\n",
    "print(Irreps(\"2x0e+1x0e\") == Irreps(\"3x0e\"))\n",
    "print(Irreps(\"2x0e+1x0e\") == Irreps(\"1x0e+2x0e\"))\n",
    "print(Irreps(\"3x1e+2o\") == \"3x1e + 2o\")"
   ]
  },
  {
   "cell_type": "code",
   "execution_count": 11,
   "metadata": {},
   "outputs": [
    {
     "name": "stdout",
     "output_type": "stream",
     "text": [
      "Irreps(0+0e+0o)\n",
      "Irreps(0e+3x0e)\n",
      "Irreps(0e+4x0o+7x1+3x2e)\n"
     ]
    }
   ],
   "source": [
    "print(Irreps(\"0e+0o+0\").sorted())\n",
    "print(Irreps(\"3x0e+0e\").sorted())\n",
    "print(Irreps(\"0o+3x0o+0e+3x1+3x2e+4x1\").simplified())"
   ]
  },
  {
   "cell_type": "code",
   "execution_count": 12,
   "metadata": {},
   "outputs": [
    {
     "data": {
      "text/plain": [
       "Irreps(2e+1o)"
      ]
     },
     "execution_count": 12,
     "metadata": {},
     "output_type": "execute_result"
    }
   ],
   "source": [
    "Irreps(\"2e\") + Irreps(\"1o\")"
   ]
  },
  {
   "cell_type": "code",
   "execution_count": 13,
   "metadata": {},
   "outputs": [
    {
     "data": {
      "text/plain": [
       "Irreps(3e+2e)"
      ]
     },
     "execution_count": 13,
     "metadata": {},
     "output_type": "execute_result"
    }
   ],
   "source": [
    "\"3e\" + Irreps(\"2e\")"
   ]
  },
  {
   "cell_type": "code",
   "execution_count": 14,
   "metadata": {},
   "outputs": [
    {
     "data": {
      "text/plain": [
       "Irreps(2e)"
      ]
     },
     "execution_count": 14,
     "metadata": {},
     "output_type": "execute_result"
    }
   ],
   "source": [
    "Irreps(\"\") + '2e'"
   ]
  },
  {
   "cell_type": "code",
   "execution_count": 15,
   "metadata": {},
   "outputs": [
    {
     "name": "stdout",
     "output_type": "stream",
     "text": [
      "Irreps(4x0+4x0+4x1+4x1)\n",
      "Irreps(8x0+8x1)\n"
     ]
    }
   ],
   "source": [
    "print(Irreps(\"4x0o+4x0e+4x1o+4x1e\").eliminate_parity())\n",
    "print(Irreps(\"4x0o+4x0e+4x1o+4x1e\").eliminate_parity(simplified=True))"
   ]
  },
  {
   "cell_type": "code",
   "execution_count": 16,
   "metadata": {},
   "outputs": [
    {
     "name": "stdout",
     "output_type": "stream",
     "text": [
      "Irreps(0o+1o+2o)\n",
      "Irreps(1e+2e+3e)\n",
      "Irreps(0e)\n",
      "Irreps(3)\n",
      "Irreps(2+3+4)\n"
     ]
    }
   ],
   "source": [
    "print(Irrep(\"1e\") * Irrep(\"1o\"))\n",
    "print(Irrep(\"2e\") * Irrep(\"1e\"))\n",
    "print(Irrep(\"0o\") * Irrep(\"0o\"))\n",
    "print(Irrep(\"3e\") * Irrep(\"0\"))\n",
    "print(Irrep(\"1\") * Irrep(\"3o\"))"
   ]
  },
  {
   "cell_type": "code",
   "execution_count": 17,
   "metadata": {},
   "outputs": [
    {
     "name": "stdout",
     "output_type": "stream",
     "text": [
      "Irreps(2x0+5x1)\n"
     ]
    }
   ],
   "source": [
    "print(Irreps(\"1x0e + 1x1o\") * Irreps(\"1x0o + 1x1e\"))"
   ]
  },
  {
   "cell_type": "code",
   "execution_count": 18,
   "metadata": {},
   "outputs": [
    {
     "data": {
      "text/plain": [
       "Irreps(0+4x1+7x2+7x3+4x4+3x5+3x6)"
      ]
     },
     "execution_count": 18,
     "metadata": {},
     "output_type": "execute_result"
    }
   ],
   "source": [
    "Irreps(\"2x0e + 3x1o\") * Irreps(\"1x1e + 2x2o\")"
   ]
  },
  {
   "cell_type": "code",
   "execution_count": 19,
   "metadata": {},
   "outputs": [
    {
     "data": {
      "text/plain": [
       "Irreps(0+4x1+7x2+7x3+4x4+3x5+3x6)"
      ]
     },
     "execution_count": 19,
     "metadata": {},
     "output_type": "execute_result"
    }
   ],
   "source": [
    "Irreps(\"2x0e + 3x1o\") * Irreps(\"1x1e + 2x2o\")"
   ]
  },
  {
   "cell_type": "code",
   "execution_count": 20,
   "metadata": {},
   "outputs": [
    {
     "data": {
      "text/plain": [
       "Irreps(0+4x1+5x2+6x3)"
      ]
     },
     "execution_count": 20,
     "metadata": {},
     "output_type": "execute_result"
    }
   ],
   "source": [
    "Irreps(\"1o\") * Irreps(\"1o\") * Irreps(\"1o\") * Irreps(\"1\")"
   ]
  },
  {
   "cell_type": "code",
   "execution_count": 21,
   "metadata": {},
   "outputs": [
    {
     "name": "stdout",
     "output_type": "stream",
     "text": [
      "11\n"
     ]
    }
   ],
   "source": [
    "print(Irreps(\"2x0e + 3x1o\").dim)"
   ]
  },
  {
   "cell_type": "markdown",
   "metadata": {},
   "source": []
  },
  {
   "cell_type": "code",
   "execution_count": 22,
   "metadata": {},
   "outputs": [
    {
     "name": "stdout",
     "output_type": "stream",
     "text": [
      "[0, 0, 0e, 0e, 1o, 1o, 1o, 2]\n",
      "[1, 1, 1, 1, 3, 3, 3, 5]\n"
     ]
    }
   ],
   "source": [
    "print(list(Irreps(\"2x0+2x0e+3x1o+2\")))\n",
    "print(list(Irreps(\"2x0+2x0e+3x1o+2\").dims()))"
   ]
  },
  {
   "cell_type": "code",
   "execution_count": 23,
   "metadata": {},
   "outputs": [
    {
     "data": {
      "text/plain": [
       "True"
      ]
     },
     "execution_count": 23,
     "metadata": {},
     "output_type": "execute_result"
    }
   ],
   "source": [
    "Irreps(\"\").isomorphic_to((3,1))"
   ]
  },
  {
   "cell_type": "code",
   "execution_count": 24,
   "metadata": {},
   "outputs": [
    {
     "name": "stdout",
     "output_type": "stream",
     "text": [
      "tensor([0, 3])\n",
      "tensor([ 0,  1,  4,  9, 16, 25])\n",
      "tensor([ 0,  1,  4,  7, 12, 17, 22, 31])\n"
     ]
    }
   ],
   "source": [
    "from irreps import irrep_segments\n",
    "print(irrep_segments(Irreps(\"1o\")))\n",
    "print(irrep_segments(Irreps((0,4))))\n",
    "print(irrep_segments(\"0+2x1e+3x2e+4\"))"
   ]
  },
  {
   "cell_type": "code",
   "execution_count": 27,
   "metadata": {},
   "outputs": [
    {
     "name": "stdout",
     "output_type": "stream",
     "text": [
      "tensor([0, 0, 0])\n",
      "tensor([0, 1, 1, 1, 2, 2, 2, 2, 2, 3, 3, 3, 3, 3, 3, 3])\n",
      "tensor([0, 1, 1, 1, 2, 2, 2, 3, 3, 3, 3, 3])\n"
     ]
    }
   ],
   "source": [
    "from irreps import irrep_indices\n",
    "print(irrep_indices(Irreps(\"1o\")))\n",
    "print(irrep_indices(Irreps((0,3))))\n",
    "print(irrep_indices(\"0+2x1e+2e\"))\n",
    "\n",
    "\n"
   ]
  },
  {
   "cell_type": "code",
   "execution_count": 3,
   "metadata": {},
   "outputs": [],
   "source": [
    "irreps = Irreps(\"2x0e + 1x1o + 2x2\")"
   ]
  },
  {
   "cell_type": "code",
   "execution_count": 6,
   "metadata": {},
   "outputs": [
    {
     "name": "stdout",
     "output_type": "stream",
     "text": [
      "0e\n",
      "1o\n",
      "Irreps(0e+1o+2)\n",
      "Irreps(0e+0e)\n",
      "Irreps(2+2)\n"
     ]
    },
    {
     "ename": "ValueError",
     "evalue": "Irreps slicing only supports a step of 1",
     "output_type": "error",
     "traceback": [
      "\u001b[0;31m---------------------------------------------------------------------------\u001b[0m",
      "\u001b[0;31mValueError\u001b[0m                                Traceback (most recent call last)",
      "Cell \u001b[0;32mIn[6], line 6\u001b[0m\n\u001b[1;32m      4\u001b[0m \u001b[38;5;28mprint\u001b[39m(irreps[:\u001b[38;5;241m2\u001b[39m])\n\u001b[1;32m      5\u001b[0m \u001b[38;5;28mprint\u001b[39m(irreps[\u001b[38;5;241m3\u001b[39m:])\n\u001b[0;32m----> 6\u001b[0m \u001b[38;5;28mprint\u001b[39m(\u001b[43mirreps\u001b[49m\u001b[43m[\u001b[49m\u001b[43m:\u001b[49m\u001b[43m:\u001b[49m\u001b[38;5;241;43m2\u001b[39;49m\u001b[43m]\u001b[49m)\n",
      "File \u001b[0;32m~/equitorch/equitorch/irreps/__init__.py:630\u001b[0m, in \u001b[0;36mIrreps.__getitem__\u001b[0;34m(self, index)\u001b[0m\n\u001b[1;32m    628\u001b[0m start, stop, step \u001b[38;5;241m=\u001b[39m index\u001b[38;5;241m.\u001b[39mindices(\u001b[38;5;28mlen\u001b[39m(\u001b[38;5;28mself\u001b[39m))\n\u001b[1;32m    629\u001b[0m \u001b[38;5;28;01mif\u001b[39;00m step \u001b[38;5;241m!=\u001b[39m \u001b[38;5;241m1\u001b[39m:\n\u001b[0;32m--> 630\u001b[0m     \u001b[38;5;28;01mraise\u001b[39;00m \u001b[38;5;167;01mValueError\u001b[39;00m(\u001b[38;5;124m\"\u001b[39m\u001b[38;5;124mIrreps slicing only supports a step of 1\u001b[39m\u001b[38;5;124m\"\u001b[39m)\n\u001b[1;32m    632\u001b[0m \u001b[38;5;66;03m# Collect irreps for the slice\u001b[39;00m\n\u001b[1;32m    633\u001b[0m sliced_irreps \u001b[38;5;241m=\u001b[39m []\n",
      "\u001b[0;31mValueError\u001b[0m: Irreps slicing only supports a step of 1"
     ]
    }
   ],
   "source": [
    "print(irreps[0])\n",
    "print(irreps[2])\n",
    "print(irreps[1:4])\n",
    "print(irreps[:2])\n",
    "print(irreps[3:])\n",
    "print(irreps[::2])"
   ]
  },
  {
   "cell_type": "code",
   "execution_count": 10,
   "metadata": {},
   "outputs": [],
   "source": [
    "from equitorch.irreps import Irrep, Irreps, has_path\n",
    "\n",
    "def full_product_irreps_paths(irreps_in1: Irreps, irreps_in2: Irreps, irreps_out: Irreps = None):\n",
    "    r\"\"\"\n",
    "    Compute the coupling paths between two input irreps sets to produce an output irreps set.\n",
    "\n",
    "    This function calculates all valid coupling paths from the tensor product of ``irreps_in1``\n",
    "    and ``irreps_in2`` to ``irreps_out``. When ``irreps_out`` is not specified, it automatically\n",
    "    generates all possible irreps from the tensor product.\n",
    "\n",
    "    Parameters\n",
    "    ----------\n",
    "    irreps_in1 : Irreps\n",
    "        First input set of irreducible representations\n",
    "    irreps_in2 : Irreps\n",
    "        Second input set of irreducible representations\n",
    "    irreps_out : Irreps, optional\n",
    "        Target output irreps. If None, uses all possible outputs from the tensor product.\n",
    "\n",
    "    Returns\n",
    "    -------\n",
    "    Tuple[Irreps, List[Tuple[int, int, int]]]\n",
    "        A tuple containing:\n",
    "        - Coupled irreps (with multiplicities indicating available paths)\n",
    "        - List of coupling paths as (path_id, input1_idx, input2_idx) tuples\n",
    "\n",
    "    Examples\n",
    "    --------\n",
    "    >>> irreps1 = Irreps(\"1e\")\n",
    "    >>> irreps2 = Irreps(\"1o\")\n",
    "    >>> product, paths = full_product_irreps_paths(irreps1, irreps2)\n",
    "    >>> print(product)\n",
    "    Irreps(0o+1o+2o)\n",
    "    >>> print(paths)\n",
    "    [(0, 0, 0), (1, 0, 0), (2, 0, 0)]\n",
    "\n",
    "    >>> out = Irreps(\"0o+2o\")\n",
    "    >>> product, paths = full_product_irreps_paths(irreps1, irreps2, out)\n",
    "    >>> print(product)\n",
    "    Irreps(0o+2o)\n",
    "    >>> print(paths)\n",
    "    [(0, 0, 0), (1, 0, 0)]\n",
    "\n",
    "    >>> irreps1 = Irreps(\"2x0e\")\n",
    "    >>> irreps2 = Irreps(\"3x1o\")\n",
    "    >>> product, paths = full_product_irreps_paths(irreps1, irreps2)\n",
    "    >>> product\n",
    "    Irreps(3x1o+3x2o)\n",
    "    >>> paths\n",
    "    \"\"\"\n",
    "    if irreps_out is None:\n",
    "        irreps_out = Irreps(list({ir for ir1 in irreps_in1 for ir2 in irreps_in2 for ir in ir1 * ir2}))\n",
    "    else:\n",
    "        irreps_out = Irreps(list({ir for ir in irreps_out}))\n",
    "    coupled_irreps = []\n",
    "    paths = []\n",
    "    \n",
    "    # Iterate through all possible output irreps\n",
    "    for ir_idx_out, ir_out in enumerate(irreps_out):\n",
    "        mul_out = 0\n",
    "        # Iterate through all possible input1 irreps\n",
    "        for ir_idx_in1, ir_in1 in enumerate(irreps_in1):\n",
    "            # Iterate through all possible input2 irreps\n",
    "            for ir_idx_in2, ir_in2 in enumerate(irreps_in2):\n",
    "                # Check if this input pair can couple to the output irrep\n",
    "                if has_path(ir_out, ir_in1, ir_in2):\n",
    "                    mul_out += 1\n",
    "                    paths.append((len(paths), ir_idx_in1, ir_idx_in2))\n",
    "        if mul_out > 0:\n",
    "            coupled_irreps.append((ir_out, mul_out))\n",
    "    # Create the Irreps object from the collected coupled irreps\n",
    "    # Each irrep has multiplicity 1 in this intermediate representation\n",
    "    # coupled_irreps = Irreps(\"+\".join(f'{mul}x{ir}' for ir, mul in coupled_irreps))\n",
    "    coupled_irreps = Irreps([(ir, mul) for ir, mul in coupled_irreps])\n",
    "    \n",
    "    # Sort the coupled irreps for consistency\n",
    "    coupled_irreps = coupled_irreps.sorted()\n",
    "    \n",
    "    return coupled_irreps, paths"
   ]
  },
  {
   "cell_type": "code",
   "execution_count": 11,
   "metadata": {},
   "outputs": [
    {
     "name": "stdout",
     "output_type": "stream",
     "text": [
      "Irreps(0o+1o+2o)\n",
      "[(0, 0, 0), (1, 0, 0), (2, 0, 0)]\n"
     ]
    }
   ],
   "source": [
    "irreps1 = Irreps(\"1e\")\n",
    "irreps2 = Irreps(\"1o\")\n",
    "product, paths = full_product_irreps_paths(irreps1, irreps2)\n",
    "print(product)\n",
    "print(paths)\n"
   ]
  },
  {
   "cell_type": "code",
   "execution_count": 16,
   "metadata": {},
   "outputs": [
    {
     "name": "stdout",
     "output_type": "stream",
     "text": [
      "Irreps(2o)\n"
     ]
    }
   ],
   "source": [
    "out = Irreps(\"0o+2o\")\n",
    "product, paths = full_product_irreps_paths(irreps1, irreps2, out)\n",
    "print(product)"
   ]
  },
  {
   "cell_type": "code",
   "execution_count": 13,
   "metadata": {},
   "outputs": [],
   "source": [
    "irreps1 = Irreps(\"0e + 1o + 2\")  # O(3)偶 + O(3)奇 + SO(3)\n",
    "irreps2 = Irreps(\"1 + 2o\")       # SO(3) + O(3)奇"
   ]
  },
  {
   "cell_type": "code",
   "execution_count": 17,
   "metadata": {},
   "outputs": [
    {
     "name": "stdout",
     "output_type": "stream",
     "text": [
      "Irreps(2x0+5x1+1e+5x2+2e+2o+3x3+3e+4)\n"
     ]
    }
   ],
   "source": [
    "irreps1 = Irreps(\"0e + 1o + 2\")  # O(3)偶 + O(3)奇 + SO(3)\n",
    "irreps2 = Irreps(\"1 + 2o\")       # SO(3) + O(3)奇\n",
    "product, paths = full_product_irreps_paths(irreps1, irreps2)\n",
    "print(product)"
   ]
  },
  {
   "cell_type": "code",
   "execution_count": 15,
   "metadata": {},
   "outputs": [
    {
     "name": "stdout",
     "output_type": "stream",
     "text": [
      "Irreps(2x0+5x1+1e+5x2+2e+2o+3x3+3e+4)\n",
      "20\n"
     ]
    }
   ],
   "source": [
    "print(product)\n",
    "print(len(product))"
   ]
  },
  {
   "cell_type": "code",
   "execution_count": 9,
   "metadata": {},
   "outputs": [
    {
     "name": "stdout",
     "output_type": "stream",
     "text": [
      "20\n"
     ]
    }
   ],
   "source": [
    "print(len(paths))"
   ]
  },
  {
   "cell_type": "code",
   "execution_count": 1,
   "metadata": {},
   "outputs": [],
   "source": [
    "from equitorch.irreps import Irreps"
   ]
  },
  {
   "cell_type": "code",
   "execution_count": 3,
   "metadata": {},
   "outputs": [
    {
     "data": {
      "text/plain": [
       "Irreps(2x0e+1o+3x2e)"
      ]
     },
     "execution_count": 3,
     "metadata": {},
     "output_type": "execute_result"
    }
   ],
   "source": [
    "Irreps(\"0e + 0e + 1o + 2e + 2e + 2e\").merged()"
   ]
  },
  {
   "cell_type": "code",
   "execution_count": 4,
   "metadata": {},
   "outputs": [
    {
     "data": {
      "text/plain": [
       "Irreps(0+0e+1o+2x0e)"
      ]
     },
     "execution_count": 4,
     "metadata": {},
     "output_type": "execute_result"
    }
   ],
   "source": [
    "Irreps(\"0+0e+1o+0e+0e\").merged()  "
   ]
  },
  {
   "cell_type": "code",
   "execution_count": null,
   "metadata": {},
   "outputs": [
    {
     "name": "stdout",
     "output_type": "stream",
     "text": [
      "Irreps(0+0e+1o)\n",
      "{0: [0], 0e: [1, 3, 4], 1o: [2]}\n"
     ]
    }
   ],
   "source": [
    "irreps_uniqued, unique_mapping = equitorch.irreps.unique_irreps(Irreps(\"0+0e+1o+0e+0e\"))\n",
    "print(irreps_uniqued)\n",
    "print(unique_mapping)"
   ]
  },
  {
   "cell_type": "code",
   "execution_count": null,
   "metadata": {},
   "outputs": [
    {
     "name": "stdout",
     "output_type": "stream",
     "text": [
      "Irreps(0+0e+1o)\n",
      "{0: [0], 0e: [1, 3, 4], 1o: [2]}\n"
     ]
    }
   ],
   "source": [
    "irreps_uniqued, unique_mapping = equitorch.irreps.unique_irreps(Irreps(\"0+0e+1o+0e+0e\"))\n",
    "print(irreps_uniqued)\n",
    "print(unique_mapping)"
   ]
  },
  {
   "cell_type": "code",
   "execution_count": null,
   "metadata": {},
   "outputs": [
    {
     "name": "stdout",
     "output_type": "stream",
     "text": [
      "Irreps(0+0e+1o)\n",
      "{0: [0], 0e: [1, 3, 4], 1o: [2]}\n"
     ]
    }
   ],
   "source": [
    "irreps_uniqued, unique_mapping = equitorch.irreps.unique_irreps(Irreps(\"0+0e+1o+0e+0e\"))\n",
    "print(irreps_uniqued)\n",
    "print(unique_mapping)"
   ]
  },
  {
   "cell_type": "code",
   "execution_count": null,
   "metadata": {},
   "outputs": [
    {
     "name": "stdout",
     "output_type": "stream",
     "text": [
      "Irreps(0+0e+1o)\n",
      "{0: [0], 0e: [1, 3, 4], 1o: [2]}\n"
     ]
    }
   ],
   "source": [
    "irreps_uniqued, unique_mapping = equitorch.irreps.unique_irreps(Irreps(\"0+0e+1o+0e+0e\"))\n",
    "print(irreps_uniqued)\n",
    "print(unique_mapping)"
   ]
  },
  {
   "cell_type": "code",
   "execution_count": 3,
   "metadata": {},
   "outputs": [
    {
     "data": {
      "text/plain": [
       "True"
      ]
     },
     "execution_count": 3,
     "metadata": {},
     "output_type": "execute_result"
    }
   ],
   "source": [
    "Irrep('2e') in (Irreps(\"0+0e+1o+0e+0e\")  * Irreps(\"0+0e+1o+0e+0e\"))"
   ]
  },
  {
   "cell_type": "code",
   "execution_count": 2,
   "metadata": {},
   "outputs": [
    {
     "data": {
      "text/plain": [
       "Irreps(7x0+10x0e+2x1+1e+6x1o+2e)"
      ]
     },
     "execution_count": 2,
     "metadata": {},
     "output_type": "execute_result"
    }
   ],
   "source": [
    "Irreps(\"0+0e+1o+0e+0e\")  * Irreps(\"0+0e+1o+0e+0e\")"
   ]
  }
 ],
 "metadata": {
  "kernelspec": {
   "display_name": "base",
   "language": "python",
   "name": "python3"
  },
  "language_info": {
   "codemirror_mode": {
    "name": "ipython",
    "version": 3
   },
   "file_extension": ".py",
   "mimetype": "text/x-python",
   "name": "python",
   "nbconvert_exporter": "python",
   "pygments_lexer": "ipython3",
   "version": "3.12.8"
  }
 },
 "nbformat": 4,
 "nbformat_minor": 2
}
