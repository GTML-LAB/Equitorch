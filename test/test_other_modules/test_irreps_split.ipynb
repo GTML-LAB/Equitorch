{
 "cells": [
  {
   "cell_type": "code",
   "execution_count": 1,
   "id": "87c3f1c4",
   "metadata": {},
   "outputs": [
    {
     "data": {
      "text/plain": [
       "<torch._C.Generator at 0x7f8ebcdd0930>"
      ]
     },
     "execution_count": 1,
     "metadata": {},
     "output_type": "execute_result"
    }
   ],
   "source": [
    "import sys\n",
    "\n",
    "\n",
    "sys.path.append('../..')\n",
    "\n",
    "import torch\n",
    "from irreps import Irreps, check_irreps\n",
    "\n",
    "from nn.others import SplitIrreps\n",
    "\n",
    "torch.random.manual_seed(0)\n"
   ]
  },
  {
   "cell_type": "code",
   "execution_count": 8,
   "id": "6f470a47",
   "metadata": {},
   "outputs": [
    {
     "name": "stdout",
     "output_type": "stream",
     "text": [
      "torch.Size([5, 14, 10])\n",
      "torch.Size([5, 2, 10]) torch.Size([5, 4, 10]) torch.Size([5, 8, 10])\n"
     ]
    }
   ],
   "source": [
    "irreps = Irreps(\"3x0e + 2x1o + 2\")\n",
    "split = SplitIrreps(irreps, [2,2,2])\n",
    "x = torch.randn(5, irreps.dim, 10)\n",
    "print(x.shape)\n",
    "sp = split(x)\n",
    "print(sp[0].shape, sp[1].shape, sp[2].shape)"
   ]
  },
  {
   "cell_type": "code",
   "execution_count": 9,
   "id": "2d110aab",
   "metadata": {},
   "outputs": [
    {
     "name": "stdout",
     "output_type": "stream",
     "text": [
      "torch.Size([5, 14, 10])\n",
      "torch.Size([5, 6, 10]) torch.Size([5, 8, 10])\n"
     ]
    }
   ],
   "source": [
    "split = SplitIrreps(irreps, [4,-1])\n",
    "x = torch.randn(5, irreps.dim, 10)\n",
    "print(x.shape)\n",
    "sp = split(x)\n",
    "print(sp[0].shape, sp[1].shape)"
   ]
  },
  {
   "cell_type": "code",
   "execution_count": 12,
   "id": "6d4bc1e3",
   "metadata": {},
   "outputs": [
    {
     "name": "stdout",
     "output_type": "stream",
     "text": [
      "torch.Size([5, 14, 10])\n",
      "torch.Size([5, 1, 10]) torch.Size([5, 5, 10]) torch.Size([5, 8, 10])\n"
     ]
    }
   ],
   "source": [
    "split = SplitIrreps(irreps, [1,...,2])\n",
    "x = torch.randn(5, irreps.dim, 10)\n",
    "print(x.shape)\n",
    "sp = split(x)\n",
    "print(sp[0].shape, sp[1].shape, sp[2].shape)"
   ]
  }
 ],
 "metadata": {
  "kernelspec": {
   "display_name": "base",
   "language": "python",
   "name": "python3"
  },
  "language_info": {
   "codemirror_mode": {
    "name": "ipython",
    "version": 3
   },
   "file_extension": ".py",
   "mimetype": "text/x-python",
   "name": "python",
   "nbconvert_exporter": "python",
   "pygments_lexer": "ipython3",
   "version": "3.12.8"
  }
 },
 "nbformat": 4,
 "nbformat_minor": 5
}
